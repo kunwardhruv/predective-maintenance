{
 "cells": [
  {
   "cell_type": "code",
   "execution_count": 2,
   "id": "c64fe8c4",
   "metadata": {},
   "outputs": [],
   "source": [
    "import pickle\n",
    "with open(r'C:\\Users\\hp\\Desktop\\Pressure for Predictive Maintenance\\model\\model.pkl', 'rb') as file:\n",
    "    model = pickle.load(file)\n",
    "    "
   ]
  },
  {
   "cell_type": "code",
   "execution_count": 5,
   "id": "d9059d30",
   "metadata": {},
   "outputs": [
    {
     "name": "stdout",
     "output_type": "stream",
     "text": [
      "   pressure\n",
      "0     7.342\n",
      "1     4.891\n",
      "2     8.765\n",
      "3     2.137\n",
      "4     6.524\n"
     ]
    }
   ],
   "source": [
    "import pandas as pd \n",
    "new=pd.read_csv(r\"C:\\Users\\hp\\Desktop\\Pressure for Predictive Maintenance\\testing\\testing_dataset.csv\")\n",
    "print(new.head())\n"
   ]
  },
  {
   "cell_type": "code",
   "execution_count": 8,
   "id": "8afc464a",
   "metadata": {},
   "outputs": [
    {
     "name": "stdout",
     "output_type": "stream",
     "text": [
      "[0 0 1 0 0 1 0 0 0 0 0 1 0 0 0 0 0 0 0 1 0 0 0 0 0 0 0 0 1 0 0 1 0 0 0 0 1\n",
      " 0 0 0 0 0 0 0 1 0 0 1 0 0 0 0 1 0 0 1 0 0 0 0 1 0 0 0 0 0 0 0 1 0 0 1 0 0\n",
      " 0 0 1 0 0 0 0 0 0 0 1 0 0 0 0 0 0 0 1 0 0 1 0 0 0 0]\n"
     ]
    }
   ],
   "source": [
    "x=new[['pressure']]\n",
    "prediction = model.predict(x)\n",
    "print(prediction)"
   ]
  },
  {
   "cell_type": "code",
   "execution_count": 10,
   "id": "c85cd43b",
   "metadata": {},
   "outputs": [],
   "source": [
    "# # Step 5: Add predictions to the DataFrame\n",
    "new['Prediction'] = prediction\n",
    "\n",
    "# Step 6: Save to a new CSV file\n",
    "new.to_csv(\"prediction_output.csv\", index=False)"
   ]
  }
 ],
 "metadata": {
  "kernelspec": {
   "display_name": "Python 3",
   "language": "python",
   "name": "python3"
  },
  "language_info": {
   "codemirror_mode": {
    "name": "ipython",
    "version": 3
   },
   "file_extension": ".py",
   "mimetype": "text/x-python",
   "name": "python",
   "nbconvert_exporter": "python",
   "pygments_lexer": "ipython3",
   "version": "3.12.2"
  }
 },
 "nbformat": 4,
 "nbformat_minor": 5
}
